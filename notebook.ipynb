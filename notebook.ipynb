{
 "cells": [
  {
   "cell_type": "markdown",
   "metadata": {},
   "source": [
    "<img src=\"http://oci02.img.iteso.mx/identidad_de_instancia_2018/ITESO/Logos%20ITESO/Logo-ITESO-Principal.jpg\">"
   ]
  },
  {
   "cell_type": "markdown",
   "metadata": {},
   "source": [
    "<center> <font color= #004A94> <font size = 6> </font> <br> <br> <font color= #047CFB> <font size = 4>I.F. Paulina Salcedo Celis  - if708079@iteso.mx </font>"
   ]
  },
  {
   "cell_type": "markdown",
   "metadata": {},
   "source": [
    "<center><font color= #004A94> <font size = 6> Microestructura y Sistemas de Trading </font> <br> <br>"
   ]
  },
  {
   "cell_type": "markdown",
   "metadata": {},
   "source": [
    "<center><font color=#42c29b><font size=5> Laboratorio 1 </font> <br> <br>"
   ]
  },
  {
   "cell_type": "markdown",
   "metadata": {},
   "source": [
    "<center> <font color= #047CFB> <font size = 4> Otoño 2020 </font>  |  <font color= #047CFB> <font size = 4> Repositorio: <a href='https://github.com/'>https://github.com/psc9718/myst_if708079_lab1</a></font>"
   ]
  },
  {
   "cell_type": "markdown",
   "metadata": {},
   "source": [
    "# Introducción"
   ]
  },
  {
   "cell_type": "markdown",
   "metadata": {},
   "source": [
    "En este laboratorio comparamos dos estrategias: Inversión Activa e Inversión Pasiva. \n",
    "\n",
    "Poder responder la pregunta ¿Qué estrategia de inversión propondrías si tu trabajo fuera administrar 1 Millón de pesos?\n",
    "\n",
    "Caso: Tienes 1 Millón de pesos, tienes dos opciones para invertirlos. Por un lado, puedes hacer una Inversión Pasiva del capital, comprando el 100% del capital de títulos de un ETF que replica al mercado de renta variable mexicano S&P/BMV IPC que es el NAFTRAC. Pero por otro lado, puedes hacer una Inversión Activa del capital, al crear un portafolio que tenga los mismos activos que el ETF y haciendo el rebalanceo por medio de un algoritmo en específico."
   ]
  },
  {
   "cell_type": "markdown",
   "metadata": {},
   "source": [
    "# Objetivos\n",
    "*Poder entender como es la inversión pasiva. \n",
    "*Poder entender como es la inversión activa. \n",
    "*Comparar los dos escenarios con el fin de ver cual sería la mejor opción. "
   ]
  },
  {
   "cell_type": "markdown",
   "metadata": {},
   "source": [
    "# Datos utilizados\n",
    "NAFTRAC desde el 2018-2020.\n",
    "Datos obtenidos de Yahoo Finance. "
   ]
  },
  {
   "cell_type": "markdown",
   "metadata": {},
   "source": [
    "# Proceso \n",
    "\n"
   ]
  },
  {
   "cell_type": "markdown",
   "metadata": {},
   "source": [
    "    Lo primero que se realizó fue la descarga y limpieza de los datos. "
   ]
  },
  {
   "cell_type": "code",
   "execution_count": 2,
   "metadata": {},
   "outputs": [
    {
     "ename": "ModuleNotFoundError",
     "evalue": "No module named 'yfinance'",
     "output_type": "error",
     "traceback": [
      "\u001b[0;31m---------------------------------------------------------------------------\u001b[0m",
      "\u001b[0;31mModuleNotFoundError\u001b[0m                       Traceback (most recent call last)",
      "\u001b[0;32m<ipython-input-2-17d45b86c74a>\u001b[0m in \u001b[0;36m<module>\u001b[0;34m\u001b[0m\n\u001b[1;32m      3\u001b[0m \u001b[0;32mfrom\u001b[0m \u001b[0mos\u001b[0m\u001b[0;34m.\u001b[0m\u001b[0mpath\u001b[0m \u001b[0;32mimport\u001b[0m \u001b[0misfile\u001b[0m\u001b[0;34m,\u001b[0m \u001b[0mjoin\u001b[0m\u001b[0;34m\u001b[0m\u001b[0;34m\u001b[0m\u001b[0m\n\u001b[1;32m      4\u001b[0m \u001b[0;32mimport\u001b[0m \u001b[0mnumpy\u001b[0m \u001b[0;32mas\u001b[0m \u001b[0mnp\u001b[0m\u001b[0;34m\u001b[0m\u001b[0;34m\u001b[0m\u001b[0m\n\u001b[0;32m----> 5\u001b[0;31m \u001b[0;32mimport\u001b[0m \u001b[0myfinance\u001b[0m \u001b[0;32mas\u001b[0m \u001b[0myf\u001b[0m\u001b[0;34m\u001b[0m\u001b[0;34m\u001b[0m\u001b[0m\n\u001b[0m\u001b[1;32m      6\u001b[0m \u001b[0;32mimport\u001b[0m \u001b[0mtime\u001b[0m \u001b[0;32mas\u001b[0m \u001b[0mtime\u001b[0m\u001b[0;34m\u001b[0m\u001b[0;34m\u001b[0m\u001b[0m\n\u001b[1;32m      7\u001b[0m \u001b[0;32mimport\u001b[0m \u001b[0mfunctions\u001b[0m \u001b[0;32mas\u001b[0m \u001b[0mfn\u001b[0m\u001b[0;34m\u001b[0m\u001b[0;34m\u001b[0m\u001b[0m\n",
      "\u001b[0;31mModuleNotFoundError\u001b[0m: No module named 'yfinance'"
     ]
    }
   ],
   "source": [
    "import pandas as pd\n",
    "from os import listdir, path\n",
    "from os.path import isfile, join\n",
    "import numpy as np\n",
    "import yfinance as yf\n",
    "import time as time\n",
    "import functions as fn\n",
    "import data as dt"
   ]
  },
  {
   "cell_type": "code",
   "execution_count": 3,
   "metadata": {},
   "outputs": [],
   "source": [
    "\n",
    "\n",
    "### Inversión pasiva\n",
    "# Lista de archivos\n",
    "\n",
    "# Ruta absoluta de la carpeta\n",
    "abspath = path.abspath('files/NAFTRAC_holdings')\n",
    "archivos = [f[:-4] for f in listdir(abspath) if isfile(join(abspath, f))]\n",
    "\n",
    "# Leer archivos\n",
    "# crear un diccionario para almacenar todos los datos\n",
    "data_archivos = {}\n",
    "\n",
    "for i in archivos:\n",
    "    # i = archivos[0]\n",
    "    data = pd.read_csv('files/NAFTRAC_holdings/' + i + '.csv', skiprows=2, header=None)\n",
    "\n",
    "    # Renombrara las columnas con lo que tiene el 1er renglon\n",
    "    data.columns = list(data.iloc[0, :])\n",
    "\n",
    "    # Columnas nan\n",
    "    data = data.iloc[:, pd.notnull(data.columns)]\n",
    "\n",
    "    #resetear el indice\n",
    "    data = data.iloc[1:-1].reset_index(inplace=False, drop=True)\n",
    "    #   quitar las comas en la columna de precios\n",
    "\n",
    "    data['Precio'] = [i.replace(',', '') for i in data['Precio']]\n",
    "\n",
    "    # quitar el asterisco de columna ticker\n",
    "    data['Ticker'] = [i.replace('*', '') for i in data['Ticker']]\n",
    "\n",
    "    # hacer conversiones de tipos de columnas a numerico\n",
    "    convert_dict = {'Ticker': str, 'Nombre': str, 'Peso (%)': float, 'Precio': float}\n",
    "    data = data.astype(convert_dict)\n",
    "\n",
    "    # Convertir a decimal la columna de peso (%)\n",
    "\n",
    "    data['Peso (%)'] = data['Peso (%)'] / 100\n",
    "\n",
    "    # guardar en diccionario\n",
    "    data_archivos[i] = data\n"
   ]
  },
  {
   "cell_type": "markdown",
   "metadata": {},
   "source": [
    "Se crearon 2 funciones que sirven para las fechas y para los tickers"
   ]
  },
  {
   "cell_type": "code",
   "execution_count": 4,
   "metadata": {},
   "outputs": [
    {
     "name": "stdout",
     "output_type": "stream",
     "text": [
      "['AMXL', 'FEMSAUBD', 'GFNORTEO', 'WALMEX', 'GMEXICOB', 'CEMEXCPO', 'TLEVISACPO', 'ALFAA', 'GAPB', 'ASURB', 'KOFL', 'MEXCHEM', 'BIMBOA', 'AC', 'GFINBURO', 'GRUMAB', 'KIMBERA', 'BSMXB', 'IENOVA', 'PINFRA', 'PE&OLES', 'ELEKTRA', 'OMAB', 'ALSEA', 'GCARSOA1', 'MEGACPO', 'LIVEPOLC.1', 'GMXT', 'CUERVO', 'GENTERA', 'RA', 'LALAB', 'VOLARA', 'ALPEKA', 'NEMAKA', 'MXN']\n",
      "['AMXL', 'FEMSAUBD', 'GFNORTEO', 'GMEXICOB', 'WALMEX', 'CEMEXCPO', 'TLEVISACPO', 'ALFAA', 'GAPB', 'ASURB', 'KOFL', 'MEXCHEM', 'BIMBOA', 'AC', 'KIMBERA', 'GFINBURO', 'IENOVA', 'GRUMAB', 'BSMXB', 'PINFRA', 'PE&OLES', 'ELEKTRA', 'OMAB', 'ALSEA', 'GCARSOA1', 'MEGACPO', 'LIVEPOLC.1', 'CUERVO', 'GENTERA', 'VOLARA', 'LALAB', 'LABB', 'GFREGIOO', 'ALPEKA', 'NEMAKA', 'MXN']\n",
      "['AMXL', 'FEMSAUBD', 'GFNORTEO', 'WALMEX', 'GMEXICOB', 'CEMEXCPO', 'TLEVISACPO', 'ALFAA', 'GAPB', 'ASURB', 'MEXCHEM', 'KOFL', 'GRUMAB', 'AC', 'KIMBERA', 'IENOVA', 'BSMXB', 'BIMBOA', 'GFINBURO', 'PINFRA', 'ELEKTRA', 'OMAB', 'PE&OLES', 'ALSEA', 'GCARSOA1', 'MEGACPO', 'LIVEPOLC.1', 'GMXT', 'GENTERA', 'CUERVO', 'RA', 'ALPEKA', 'LALAB', 'VOLARA', 'NEMAKA', 'MXN', 'USD']\n",
      "['FEMSAUBD', 'AMXL', 'GFNORTEO', 'WALMEX', 'GMEXICOB', 'CEMEXCPO', 'TLEVISACPO', 'BIMBOA', 'ALFAA', 'ASURB', 'GAPB', 'GFINBURO', 'KOFL', 'ELEKTRA', 'MEXCHEM', 'BSMXB', 'KIMBERA', 'GRUMAB', 'AC', 'PINFRA', 'IENOVA', 'OMAB', 'PE&OLES', 'MEGACPO', 'BBAJIOO', 'ALSEA', 'LIVEPOLC.1', 'GCC', 'GMXT', 'GENTERA', 'CUERVO', 'LALAB', 'MXN', 'ALPEKA', 'RA', 'LABB']\n",
      "['GFNORTEO', 'FEMSAUBD', 'AMXL', 'WALMEX', 'GMEXICOB', 'CEMEXCPO', 'TLEVISACPO', 'BIMBOA', 'GAPB', 'GFINBURO', 'KOFUBL', 'ASURB', 'ALFAA', 'ELEKTRA', 'BSMXB', 'KIMBERA', 'MEXCHEM', 'IENOVA', 'PINFRA', 'AC', 'OMAB', 'GRUMAB', 'GCARSOA1', 'BBAJIOO', 'PE&OLES', 'MEGACPO', 'LIVEPOLC.1', 'ALSEA', 'BOLSAA', 'GCC', 'GENTERA', 'CUERVO', 'LABB', 'RA', 'MXN', 'ALPEKA']\n",
      "['AMXL', 'WALMEX', 'FEMSAUBD', 'GFNORTEO', 'GMEXICOB', 'CEMEXCPO', 'ELEKTRA', 'GAPB', 'TLEVISACPO', 'BIMBOA', 'GRUMAB', 'KOFUBL', 'ASURB', 'KIMBERA', 'AC', 'OMAB', 'PINFRA', 'ALFAA', 'GFINBURO', 'IENOVA', 'ORBIA', 'PE&OLES', 'CUERVO', 'GCARSOA1', 'MEGACPO', 'BOLSAA', 'VESTA', 'LABB', 'Q', 'BBAJIOO', 'ALSEA', 'GENTERA', 'LIVEPOLC.1', 'BSMXB', 'RA', 'MXN']\n",
      "['FEMSAUBD', 'AMXL', 'GFNORTEO', 'WALMEX', 'GMEXICOB', 'CEMEXCPO', 'BIMBOA', 'GAPB', 'ELEKTRA', 'TLEVISACPO', 'ASURB', 'GFINBURO', 'KOFUBL', 'ALFAA', 'KIMBERA', 'BSMXB', 'PINFRA', 'MEXCHEM', 'OMAB', 'AC', 'IENOVA', 'GRUMAB', 'GCARSOA1', 'PE&OLES', 'BBAJIOO', 'MEGACPO', 'LIVEPOLC.1', 'ALSEA', 'GCC', 'GENTERA', 'CUERVO', 'BOLSAA', 'LABB', 'ALPEKA', 'RA', 'MXN']\n",
      "['AMXL', 'FEMSAUBD', 'WALMEX', 'GFNORTEO', 'GMEXICOB', 'CEMEXCPO', 'TLEVISACPO', 'GAPB', 'ELEKTRA', 'ASURB', 'KOFUBL', 'KIMBERA', 'AC', 'GFINBURO', 'IENOVA', 'OMAB', 'BIMBOA', 'PINFRA', 'GRUMAB', 'ORBIA', 'ALFAA', 'GCARSOA1', 'BBAJIOO', 'PE&OLES', 'ALSEA', 'MEGACPO', 'GENTERA', 'BOLSAA', 'LIVEPOLC.1', 'GCC', 'CUERVO', 'LABB', 'BSMXB', 'RA', 'MXN', 'ALPEKA']\n",
      "['AMXL', 'WALMEX', 'FEMSAUBD', 'GMEXICOB', 'GFNORTEO', 'ELEKTRA', 'CEMEXCPO', 'TLEVISACPO', 'GAPB', 'BIMBOA', 'GRUMAB', 'KOFUBL', 'ASURB', 'KIMBERA', 'AC', 'IENOVA', 'PINFRA', 'GFINBURO', 'OMAB', 'ORBIA', 'ALFAA', 'PE&OLES', 'GCARSOA1', 'BOLSAA', 'CUERVO', 'VESTA', 'Q', 'MEGACPO', 'LABB', 'BBAJIOO', 'LIVEPOLC.1', 'ALSEA', 'GENTERA', 'BSMXB', 'RA', 'MXN']\n",
      "['AMXL', 'WALMEX', 'FEMSAUBD', 'GFNORTEO', 'GMEXICOB', 'CEMEXCPO', 'ELEKTRA', 'TLEVISACPO', 'BIMBOA', 'GRUMAB', 'GAPB', 'KIMBERA', 'AC', 'KOFUBL', 'ASURB', 'PE&OLES', 'PINFRA', 'ORBIA', 'GFINBURO', 'IENOVA', 'ALFAA', 'OMAB', 'CUERVO', 'GCARSOA1', 'BOLSAA', 'MEGACPO', 'VESTA', 'LABB', 'Q', 'BBAJIOO', 'ALSEA', 'LIVEPOLC.1', 'BSMXB', 'GENTERA', 'RA', 'MXN']\n",
      "['AMXL', 'FEMSAUBD', 'GFNORTEO', 'WALMEX', 'GMEXICOB', 'CEMEXCPO', 'TLEVISACPO', 'ALFAA', 'BIMBOA', 'ASURB', 'GAPB', 'KOFL', 'GFINBURO', 'ELEKTRA', 'MEXCHEM', 'BSMXB', 'GRUMAB', 'KIMBERA', 'AC', 'PINFRA', 'IENOVA', 'OMAB', 'PE&OLES', 'ALSEA', 'BBAJIOO', 'MEGACPO', 'LIVEPOLC.1', 'GCC', 'GMXT', 'LALAB', 'GENTERA', 'CUERVO', 'ALPEKA', 'RA', 'LABB', 'MXN']\n",
      "['AMXL', 'FEMSAUBD', 'GFNORTEO', 'WALMEX', 'GMEXICOB', 'CEMEXCPO', 'TLEVISACPO', 'ALFAA', 'GAPB', 'ASURB', 'KOFL', 'MEXCHEM', 'AC', 'GFINBURO', 'KIMBERA', 'BIMBOA', 'IENOVA', 'BSMXB', 'GRUMAB', 'PINFRA', 'PE&OLES', 'ELEKTRA', 'OMAB', 'ALSEA', 'LIVEPOLC.1', 'MEGACPO', 'GCARSOA1', 'CUERVO', 'GMXT', 'GENTERA', 'VOLARA', 'LALAB', 'GFREGIOO', 'ALPEKA', 'NEMAKA', 'MXN', 'USD']\n",
      "['AMXL', 'FEMSAUBD', 'GFNORTEO', 'WALMEX', 'GMEXICOB', 'CEMEXCPO', 'TLEVISACPO', 'ALFAA', 'GAPB', 'ASURB', 'KOFL', 'BIMBOA', 'MEXCHEM', 'AC', 'GFINBURO', 'IENOVA', 'BSMXB', 'KIMBERA', 'GRUMAB', 'ELEKTRA', 'PINFRA', 'PE&OLES', 'OMAB', 'GCARSOA1', 'LIVEPOLC.1', 'MEGACPO', 'ALSEA', 'CUERVO', 'GENTERA', 'LALAB', 'VOLARA', 'LABB', 'GFREGIOO', 'ALPEKA', 'NEMAKA', 'MXN']\n",
      "['AMXL', 'FEMSAUBD', 'GFNORTEO', 'WALMEX', 'GMEXICOB', 'CEMEXCPO', 'TLEVISACPO', 'GAPB', 'ELEKTRA', 'ASURB', 'KOFUBL', 'KIMBERA', 'BIMBOA', 'OMAB', 'AC', 'GFINBURO', 'IENOVA', 'PINFRA', 'GRUMAB', 'ORBIA', 'ALFAA', 'GCARSOA1', 'PE&OLES', 'ALSEA', 'BBAJIOO', 'GENTERA', 'MEGACPO', 'LIVEPOLC.1', 'BOLSAA', 'CUERVO', 'LABB', 'GCC', 'BSMXB', 'RA', 'MXN', 'ALPEKA']\n",
      "['AMXL', 'FEMSAUBD', 'GFNORTEO', 'WALMEX', 'CEMEXCPO', 'GMEXICOB', 'TLEVISACPO', 'ALFAA', 'GAPB', 'ASURB', 'KOFL', 'MEXCHEM', 'AC', 'KIMBERA', 'BIMBOA', 'GFINBURO', 'BSMXB', 'IENOVA', 'GRUMAB', 'PINFRA', 'ELEKTRA', 'OMAB', 'PE&OLES', 'ALSEA', 'MEGACPO', 'GCARSOA1', 'LIVEPOLC.1', 'CUERVO', 'GMXT', 'MXN', 'GENTERA', 'RA', 'LALAB', 'ALPEKA', 'VOLARA', 'NEMAKA']\n",
      "['FEMSAUBD', 'AMXL', 'GFNORTEO', 'WALMEX', 'GMEXICOB', 'CEMEXCPO', 'TLEVISACPO', 'BIMBOA', 'GAPB', 'ELEKTRA', 'KOFUBL', 'ASURB', 'GFINBURO', 'ALFAA', 'KIMBERA', 'BSMXB', 'PINFRA', 'IENOVA', 'MEXCHEM', 'OMAB', 'AC', 'GRUMAB', 'GCARSOA1', 'PE&OLES', 'BBAJIOO', 'MEGACPO', 'LIVEPOLC.1', 'ALSEA', 'GENTERA', 'GCC', 'BOLSAA', 'CUERVO', 'MXN', 'LABB', 'RA', 'ALPEKA']\n",
      "['FEMSAUBD', 'AMXL', 'GFNORTEO', 'WALMEX', 'GMEXICOB', 'CEMEXCPO', 'TLEVISACPO', 'BIMBOA', 'KOFL', 'ASURB', 'GAPB', 'ALFAA', 'GFINBURO', 'ELEKTRA', 'MEXCHEM', 'KIMBERA', 'BSMXB', 'PINFRA', 'AC', 'IENOVA', 'GRUMAB', 'OMAB', 'GCARSOA1', 'PE&OLES', 'MEGACPO', 'BBAJIOO', 'LIVEPOLC.1', 'ALSEA', 'BOLSAA', 'GCC', 'CUERVO', 'GENTERA', 'ALPEKA', 'LABB', 'RA', 'MXN']\n",
      "['FEMSAUBD', 'AMXL', 'GFNORTEO', 'WALMEX', 'GMEXICOB', 'CEMEXCPO', 'TLEVISACPO', 'ELEKTRA', 'GAPB', 'BIMBOA', 'KOFUBL', 'ASURB', 'KIMBERA', 'GFINBURO', 'ALFAA', 'BSMXB', 'OMAB', 'AC', 'IENOVA', 'PINFRA', 'MEXCHEM', 'GRUMAB', 'GCARSOA1', 'BBAJIOO', 'MEGACPO', 'PE&OLES', 'ALSEA', 'LIVEPOLC.1', 'GCC', 'GENTERA', 'CUERVO', 'BOLSAA', 'LABB', 'RA', 'ALPEKA', 'MXN']\n",
      "['FEMSAUBD', 'AMXL', 'GFNORTEO', 'WALMEX', 'GMEXICOB', 'CEMEXCPO', 'TLEVISACPO', 'ALFAA', 'GAPB', 'ASURB', 'MEXCHEM', 'KOFL', 'BSMXB', 'GRUMAB', 'GFINBURO', 'AC', 'KIMBERA', 'IENOVA', 'BIMBOA', 'ELEKTRA', 'PINFRA', 'OMAB', 'GCARSOA1', 'PE&OLES', 'MEGACPO', 'ALSEA', 'LIVEPOLC.1', 'GENTERA', 'GMXT', 'CUERVO', 'RA', 'VOLARA', 'ALPEKA', 'LALAB', 'MXN', 'NEMAKA']\n",
      "['AMXL', 'WALMEX', 'FEMSAUBD', 'GFNORTEO', 'GMEXICOB', 'ELEKTRA', 'CEMEXCPO', 'TLEVISACPO', 'BIMBOA', 'KIMBERA', 'KOFUBL', 'GAPB', 'ASURB', 'AC', 'GRUMAB', 'IENOVA', 'GFINBURO', 'PINFRA', 'OMAB', 'ORBIA', 'GCARSOA1', 'PE&OLES', 'MEGACPO', 'ALFAA', 'BOLSAA', 'CUERVO', 'BBAJIOO', 'LABB', 'GCC', 'LIVEPOLC.1', 'MXN', 'GENTERA', 'BSMXB', 'ALSEA', 'RA', 'ALPEKA']\n",
      "['AMXL', 'WALMEX', 'FEMSAUBD', 'GFNORTEO', 'GMEXICOB', 'CEMEXCPO', 'ELEKTRA', 'TLEVISACPO', 'GAPB', 'BIMBOA', 'KOFUBL', 'GRUMAB', 'KIMBERA', 'ASURB', 'AC', 'PINFRA', 'OMAB', 'ALFAA', 'GFINBURO', 'ORBIA', 'IENOVA', 'PE&OLES', 'GCARSOA1', 'MEGACPO', 'CUERVO', 'BOLSAA', 'VESTA', 'Q', 'LABB', 'BBAJIOO', 'LIVEPOLC.1', 'ALSEA', 'GENTERA', 'BSMXB', 'MXN', 'RA']\n",
      "['AMXL', 'FEMSAUBD', 'WALMEX', 'GFNORTEO', 'GMEXICOB', 'TLEVISACPO', 'CEMEXCPO', 'GAPB', 'ELEKTRA', 'ASURB', 'KOFUBL', 'KIMBERA', 'BIMBOA', 'GFINBURO', 'OMAB', 'IENOVA', 'ALFAA', 'AC', 'GRUMAB', 'PINFRA', 'ORBIA', 'GCARSOA1', 'ALSEA', 'PE&OLES', 'MEGACPO', 'BBAJIOO', 'GENTERA', 'LIVEPOLC.1', 'BOLSAA', 'CUERVO', 'GCC', 'BSMXB', 'LABB', 'RA', 'ALPEKA', 'MXN']\n",
      "['AMXL', 'FEMSAUBD', 'GFNORTEO', 'WALMEX', 'GMEXICOB', 'CEMEXCPO', 'TLEVISACPO', 'BIMBOA', 'ALFAA', 'GFINBURO', 'KOFL', 'ASURB', 'GAPB', 'ELEKTRA', 'MEXCHEM', 'GRUMAB', 'KIMBERA', 'AC', 'PINFRA', 'BSMXB', 'IENOVA', 'OMAB', 'PE&OLES', 'ALSEA', 'BBAJIOO', 'MEGACPO', 'LIVEPOLC.1', 'GCC', 'GMXT', 'GENTERA', 'CUERVO', 'LALAB', 'ALPEKA', 'RA', 'MXN', 'LABB']\n",
      "['GFNORTEO', 'AMXL', 'FEMSAUBD', 'WALMEX', 'GMEXICOB', 'CEMEXCPO', 'TLEVISACPO', 'ASURB', 'GAPB', 'BIMBOA', 'ALFAA', 'GFINBURO', 'MEXCHEM', 'KOFL', 'BSMXB', 'GRUMAB', 'IENOVA', 'ELEKTRA', 'KIMBERA', 'AC', 'OMAB', 'PINFRA', 'PE&OLES', 'ALSEA', 'BBAJIOO', 'MEGACPO', 'LIVEPOLC.1', 'GCC', 'GMXT', 'GENTERA', 'CUERVO', 'LALAB', 'ALPEKA', 'LABB', 'RA', 'MXN', 'USD']\n",
      "['AMXL', 'GFNORTEO', 'FEMSAUBD', 'WALMEX', 'GMEXICOB', 'CEMEXCPO', 'TLEVISACPO', 'BIMBOA', 'ASURB', 'ALFAA', 'GAPB', 'KOFL', 'GFINBURO', 'MEXCHEM', 'ELEKTRA', 'GRUMAB', 'BSMXB', 'IENOVA', 'KIMBERA', 'PINFRA', 'AC', 'OMAB', 'PE&OLES', 'BBAJIOO', 'ALSEA', 'MEGACPO', 'LIVEPOLC.1', 'GCC', 'GMXT', 'GENTERA', 'CUERVO', 'LALAB', 'ALPEKA', 'RA', 'LABB', 'MXN']\n",
      "['AMXL', 'FEMSAUBD', 'WALMEX', 'GFNORTEO', 'GMEXICOB', 'CEMEXCPO', 'TLEVISACPO', 'ELEKTRA', 'GAPB', 'ASURB', 'KOFUBL', 'KIMBERA', 'BIMBOA', 'GFINBURO', 'ALFAA', 'AC', 'OMAB', 'GRUMAB', 'IENOVA', 'ORBIA', 'PINFRA', 'GCARSOA1', 'PE&OLES', 'ALSEA', 'MEGACPO', 'BBAJIOO', 'GENTERA', 'LIVEPOLC.1', 'BOLSAA', 'GCC', 'CUERVO', 'LABB', 'BSMXB', 'RA', 'ALPEKA', 'MXN']\n",
      "['AMXL', 'FEMSAUBD', 'WALMEX', 'GFNORTEO', 'GMEXICOB', 'CEMEXCPO', 'TLEVISACPO', 'ELEKTRA', 'GAPB', 'KOFUBL', 'ASURB', 'KIMBERA', 'GFINBURO', 'BIMBOA', 'ALFAA', 'AC', 'GRUMAB', 'IENOVA', 'OMAB', 'PINFRA', 'ORBIA', 'PE&OLES', 'GCARSOA1', 'MEGACPO', 'BBAJIOO', 'ALSEA', 'LIVEPOLC.1', 'GCC', 'GENTERA', 'BOLSAA', 'CUERVO', 'LABB', 'BSMXB', 'RA', 'ALPEKA', 'MXN']\n",
      "['FEMSAUBD', 'AMXL', 'GFNORTEO', 'WALMEX', 'CEMEXCPO', 'GMEXICOB', 'TLEVISACPO', 'ALFAA', 'GAPB', 'ASURB', 'MEXCHEM', 'KOFL', 'ELEKTRA', 'BSMXB', 'GRUMAB', 'GFINBURO', 'KIMBERA', 'BIMBOA', 'IENOVA', 'AC', 'PINFRA', 'OMAB', 'PE&OLES', 'ALSEA', 'GCARSOA1', 'MEGACPO', 'LIVEPOLC.1', 'GENTERA', 'GMXT', 'CUERVO', 'RA', 'VOLARA', 'ALPEKA', 'LALAB', 'NEMAKA', 'MXN']\n",
      "['AMXL', 'FEMSAUBD', 'WALMEX', 'GFNORTEO', 'GMEXICOB', 'CEMEXCPO', 'TLEVISACPO', 'ELEKTRA', 'GAPB', 'ASURB', 'KOFUBL', 'KIMBERA', 'GFINBURO', 'BIMBOA', 'AC', 'OMAB', 'GRUMAB', 'ALFAA', 'ORBIA', 'IENOVA', 'PINFRA', 'GCARSOA1', 'ALSEA', 'PE&OLES', 'BBAJIOO', 'MEGACPO', 'GENTERA', 'LIVEPOLC.1', 'BOLSAA', 'CUERVO', 'GCC', 'BSMXB', 'LABB', 'MXN', 'RA', 'ALPEKA']\n",
      "['AMXL', 'FEMSAUBD', 'GFNORTEO', 'WALMEX', 'GMEXICOB', 'CEMEXCPO', 'ELEKTRA', 'TLEVISACPO', 'GAPB', 'BIMBOA', 'KOFUBL', 'ASURB', 'KIMBERA', 'GFINBURO', 'ALFAA', 'IENOVA', 'BSMXB', 'AC', 'OMAB', 'GRUMAB', 'MEXCHEM', 'PINFRA', 'PE&OLES', 'GCARSOA1', 'MEGACPO', 'BBAJIOO', 'ALSEA', 'LIVEPOLC.1', 'GCC', 'BOLSAA', 'CUERVO', 'GENTERA', 'MXN', 'LABB', 'ALPEKA', 'RA']\n",
      "['AMXL', 'WALMEX', 'FEMSAUBD', 'GFNORTEO', 'GMEXICOB', 'CEMEXCPO', 'TLEVISACPO', 'ELEKTRA', 'GAPB', 'BIMBOA', 'GRUMAB', 'KIMBERA', 'KOFUBL', 'ASURB', 'AC', 'PE&OLES', 'ALFAA', 'ORBIA', 'GFINBURO', 'PINFRA', 'OMAB', 'IENOVA', 'BOLSAA', 'CUERVO', 'GCARSOA1', 'MEGACPO', 'VESTA', 'LABB', 'Q', 'BBAJIOO', 'ALSEA', 'LIVEPOLC.1', 'BSMXB', 'GENTERA', 'MXN', 'RA']\n",
      "['FEMSAUBD', 'AMXL', 'GFNORTEO', 'WALMEX', 'CEMEXCPO', 'GMEXICOB', 'TLEVISACPO', 'BIMBOA', 'KOFL', 'ALFAA', 'GFINBURO', 'ASURB', 'GAPB', 'ELEKTRA', 'MEXCHEM', 'GRUMAB', 'KIMBERA', 'BSMXB', 'AC', 'IENOVA', 'PINFRA', 'OMAB', 'PE&OLES', 'MEGACPO', 'ALSEA', 'BBAJIOO', 'LIVEPOLC.1', 'GCC', 'GENTERA', 'GMXT', 'CUERVO', 'MXN', 'LALAB', 'ALPEKA', 'LABB', 'RA']\n"
     ]
    },
    {
     "data": {
      "text/plain": [
       "['AC.MX',\n",
       " 'ALFAA.MX',\n",
       " 'ALPEKA.MX',\n",
       " 'ALSEA.MX',\n",
       " 'AMXL.MX',\n",
       " 'ASURB.MX',\n",
       " 'BBAJIOO.MX',\n",
       " 'BIMBOA.MX',\n",
       " 'BOLSAA.MX',\n",
       " 'CEMEXCPO.MX',\n",
       " 'CUERVO.MX',\n",
       " 'ELEKTRA.MX',\n",
       " 'FEMSAUBD.MX',\n",
       " 'GAPB.MX',\n",
       " 'GCARSOA1.MX',\n",
       " 'GCC.MX',\n",
       " 'GENTERA.MX',\n",
       " 'GFINBURO.MX',\n",
       " 'GFNORTEO.MX',\n",
       " 'RA.MX',\n",
       " 'GMEXICOB.MX',\n",
       " 'GMXT.MX',\n",
       " 'GRUMAB.MX',\n",
       " 'IENOVA.MX',\n",
       " 'KIMBERA.MX',\n",
       " 'LABB.MX',\n",
       " 'LALAB.MX',\n",
       " 'LIVEPOLC-1.MX',\n",
       " 'MEGACPO.MX',\n",
       " 'ORBIA.MX',\n",
       " 'NEMAKA.MX',\n",
       " 'OMAB.MX',\n",
       " 'ORBIA.MX',\n",
       " 'PE&OLES.MX',\n",
       " 'PINFRA.MX',\n",
       " 'Q.MX',\n",
       " 'RA.MX',\n",
       " 'TLEVISACPO.MX',\n",
       " 'VESTA.MX',\n",
       " 'VOLARA.MX',\n",
       " 'WALMEX.MX']"
      ]
     },
     "execution_count": 4,
     "metadata": {},
     "output_type": "execute_result"
    }
   ],
   "source": [
    "def f_fechas (archivos):\n",
    "\n",
    "    t_fechas = [i.strftime('%d-%m-%Y') for i in sorted([pd.to_datetime(i[8:]).date() for i in archivos])]\n",
    "\n",
    "    # lista con fechas ordenadas (para usarse como  indexadores de archivos)\n",
    "\n",
    "    i_fechas = [j.strftime('%Y-%m-%d') for j in sorted([pd.to_datetime(i[8:]).date() for i in archivos])]\n",
    "\n",
    "    r_f_fechas = {'i_fechas': i_fechas, 't_fechas':t_fechas}\n",
    "\n",
    "    return r_f_fechas\n",
    "# Descargar y acomodar datos\n",
    "\n",
    "def f_ticker(archivos, data_archivos):\n",
    "    tickers = []\n",
    "    for i in archivos:\n",
    "        # i = archivos[1]\n",
    "        l_tickers = list(data_archivos[i]['Ticker'])\n",
    "        print(l_tickers)\n",
    "        [tickers.append(i + '.MX') for i in l_tickers]\n",
    "    global_tickers = np.unique(tickers).tolist()\n",
    "\n",
    "    # Obtener posiciones historicas\n",
    "\n",
    "\n",
    "    global_tickers = [i.replace('GFREGIOO.MX', 'RA.MX') for i in global_tickers]\n",
    "    global_tickers = [i.replace('MEXCHEM.MX', 'ORBIA.MX') for i in global_tickers]\n",
    "    global_tickers = [i.replace('LIVEPOLC.1.MX', 'LIVEPOLC-1.MX') for i in global_tickers]\n",
    "\n",
    "    # eliminar MXN, USD, KOFL\n",
    "    [global_tickers.remove(i) for i in ['MXN.MX', 'USD.MX', 'KOFL.MX','KOFUBL.MX' ,'BSMXB.MX']]\n",
    "    return global_tickers\n",
    "f_ticker(archivos,data_archivos)"
   ]
  },
  {
   "cell_type": "markdown",
   "metadata": {},
   "source": [
    "Comenzamos por descargar los precios de los activos incluidos en el NAFTRAC"
   ]
  },
  {
   "cell_type": "code",
   "execution_count": null,
   "metadata": {},
   "outputs": [],
   "source": []
  },
  {
   "cell_type": "markdown",
   "metadata": {
    "pycharm": {
     "name": "#%% md\n"
    }
   },
   "source": [
    "# Conclusión\n"
   ]
  }
 ],
 "metadata": {
  "kernelspec": {
   "display_name": "Python 3",
   "language": "python",
   "name": "python3"
  },
  "language_info": {
   "codemirror_mode": {
    "name": "ipython",
    "version": 3
   },
   "file_extension": ".py",
   "mimetype": "text/x-python",
   "name": "python",
   "nbconvert_exporter": "python",
   "pygments_lexer": "ipython3",
   "version": "3.7.3"
  },
  "pycharm": {
   "stem_cell": {
    "cell_type": "raw",
    "metadata": {
     "collapsed": false
    },
    "source": []
   }
  }
 },
 "nbformat": 4,
 "nbformat_minor": 2
}
